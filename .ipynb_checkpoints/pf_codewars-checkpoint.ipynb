{
 "cells": [
  {
   "cell_type": "markdown",
   "id": "3c87f2f4-03f9-4a10-86e7-9b4470bc28c4",
   "metadata": {},
   "source": [
    "# Collection of my code for completed Codewars katas\n",
    "\n",
    "## More information about these challenges can be found on my [profile](https://www.codewars.com/users/petefoss)\n",
    "\n",
    "![petefoss codewars level](https://www.codewars.com/users/petefoss/badges/large)\n",
    "\n",
    "## These solutions have been colated in a JupterLab file to allow for the ability to run individual cells of code.\n",
    "\n",
    "Format of file\n",
    "* Markdown cell with Kata challenge info and link to Codewars page\n",
    "* Code cell with the solution\n",
    "\n",
    "### About Codewars\n",
    "Codewars is an online tool for learning code by completing coding challenges. It is similar to Leetcode or Hackerrank in this respect.\n",
    "\n",
    "The challenges / Kata start at level 8kyu and work up to level 1kyu. \n",
    "**So the Lower the level number the harder the challenge**\n",
    "\n",
    "The Users / Codewarriors also start at Level 8kyu and work up level 1kyu and then on to master / dan levels. \n",
    "\n",
    ">Codewars is an educational community for computer programming. On the platform, software developers train on programming challenges known as kata. These discrete programming exercises train a range of skills in a variety of programming languages, and are completed within an online integrated development environment. \n",
    "- Wikipedia \n",
    "\n",
    "### Note\n",
    "These solutions have been written while learning to code and are not always the most efficient ways of solving the problem. I have left them unchanged as it allows for an interesting view of personal growth and development\n",
    "\n",
    "---\n",
    "\n",
    "\n",
    "\n"
   ]
  },
  {
   "cell_type": "markdown",
   "id": "df75dc9e-4325-444d-9267-7dac2e1e82c8",
   "metadata": {},
   "source": [
    "# Level 3 - [The Millionth Fibonacci Kata](https://www.codewars.com/kata/53d40c1e2f13e331fc000c26)\n",
    "\n",
    "DESCRIPTION:\n",
    "The year is 1214. One night, Pope Innocent III awakens to find the the archangel Gabriel floating before him. Gabriel thunders to the pope:\n",
    "\n",
    ">Gather all of the learned men in Pisa, especially Leonardo Fibonacci. In order for the crusades in the holy lands to be successful, these men must calculate the millionth number in Fibonacci's recurrence. Fail to do this, and your armies will never reclaim the holy land. It is His will.\n",
    "\n",
    "The angel then vanishes in an explosion of white light.\n",
    "\n",
    "Pope Innocent III sits in his bed in awe. How much is a million? he thinks to himself. He never was very good at math.\n",
    "\n",
    "He tries writing the number down, but because everyone in Europe is still using Roman numerals at this moment in history, he cannot represent this number. If he only knew about the invention of zero, it might make this sort of thing easier.\n",
    "\n",
    "He decides to go back to bed. He consoles himself, The Lord would never challenge me thus; this must have been some deceit by the devil. A pretty horrendous nightmare, to be sure.\n",
    "\n",
    "Pope Innocent III's armies would go on to conquer Constantinople (now Istanbul), but they would never reclaim the holy land as he desired.\n",
    "\n",
    "In this kata you will have to calculate fib(n) where:\n",
    "\n",
    "```\n",
    "fib(0) := 0\n",
    "fib(1) := 1\n",
    "fin(n + 2) := fib(n + 1) + fib(n)\n",
    "```\n",
    "\n",
    "Write an algorithm that can handle n up to 2000000.\n",
    "\n",
    "Your algorithm must output the exact integer answer, to full precision. Also, it must correctly handle negative numbers as input.\n",
    "\n",
    "HINT I: Can you rearrange the equation fib(n + 2) = fib(n + 1) + fib(n) to find fib(n) if you already know fib(n + 1) and fib(n + 2)? Use this to reason what value fib has to have for negative values.\n",
    "\n",
    "HINT II: See https://web.archive.org/web/20220614001843/https://mitpress.mit.edu/sites/default/files/sicp/full-text/book/book-Z-H-11.html#%_sec_1.2.4"
   ]
  },
  {
   "cell_type": "code",
   "execution_count": 1,
   "id": "77240989-0016-462c-943a-1f71b9896adc",
   "metadata": {},
   "outputs": [],
   "source": [
    "# mul function defines a 2x2 matrix and multiples it up\n",
    "def mul(A, B):\n",
    "    a, b, c = A\n",
    "    d, e, f = B\n",
    "    return a * d + b * e, a * e + b * f, b * e + c * f\n",
    "\n",
    "# pow function uses exponentiation by squaring and recursion to find nth power\n",
    "def pow(A, n):\n",
    "    if n == 1: return A\n",
    "    if n &1 == 0: return pow(mul(A, A), n // 2)\n",
    "    return mul(A, pow(mul(A, A), (n - 1)//2))\n",
    "\n",
    "# fib function starts by checking if n is negative and even, if it is both it sets is_neg to -1\n",
    "# it then calls pow to calculate nth number\n",
    "# finally it multiples answer by is_neg to make the answer negative if n is negative and even\n",
    "def fib(n):\n",
    "    is_neg = 1\n",
    "    if n < 0 and n % 2 == 0:\n",
    "        is_neg = -1\n",
    "    n = abs(n)\n",
    "    if n < 2: return n\n",
    "    return (pow((1, 1, 0), n - 1)[0]) * is_neg\n",
    "\n",
    "\n",
    "# This algorithm was found at https://literateprograms.org/fibonacci_numbers__python_.html\n",
    "# and then modifed to work with negative numbers.\n",
    "\n",
    "# (using straight recursion or iteration takes too long for higher numbers and times out)\n",
    "\n"
   ]
  },
  {
   "cell_type": "markdown",
   "id": "0dcb69b6-eef4-4e08-a35f-ea2955098dc0",
   "metadata": {},
   "source": [
    "# Level 4\n",
    "[Sum of Intervals](https://www.codewars.com/kata/52b7ed099cdc285c300001cd)\n",
    "\n",
    "## DESCRIPTION:\n",
    "Write a function called sumIntervals/sum_intervals that accepts an array of intervals, and returns the sum of all the interval lengths. Overlapping intervals should only be counted once.\n",
    "\n",
    "Intervals\n",
    "Intervals are represented by a pair of integers in the form of an array. The first value of the interval will always be less than the second value. Interval example: [1, 5] is an interval from 1 to 5. The length of this interval is 4.\n",
    "\n",
    "Overlapping Intervals\n",
    "List containing overlapping intervals:\n",
    "```python\n",
    "[\n",
    "   [1, 4],\n",
    "   [7, 10],\n",
    "   [3, 5]\n",
    "]\n",
    "```\n",
    "The sum of the lengths of these intervals is 7. Since [1, 4] and [3, 5] overlap, we can treat the interval as [1, 5], which has a length of 4.\n",
    "\n",
    "Examples:\n",
    "```python\n",
    "sumIntervals( [\n",
    "   [1, 2],\n",
    "   [6, 10],\n",
    "   [11, 15]\n",
    "] ) => 9\n",
    "\n",
    "sumIntervals( [\n",
    "   [1, 4],\n",
    "   [7, 10],\n",
    "   [3, 5]\n",
    "] ) => 7\n",
    "\n",
    "sumIntervals( [\n",
    "   [1, 5],\n",
    "   [10, 20],\n",
    "   [1, 6],\n",
    "   [16, 19],\n",
    "   [5, 11]\n",
    "] ) => 19\n",
    "\n",
    "sumIntervals( [\n",
    "   [0, 20],\n",
    "   [-100000000, 10],\n",
    "   [30, 40]\n",
    "] ) => 100000030\n",
    "```\n",
    "Tests with large intervals\n",
    "Your algorithm should be able to handle large intervals. All tested intervals are subsets of the range [-1000000000, 1000000000]."
   ]
  },
  {
   "cell_type": "code",
   "execution_count": 2,
   "id": "ae92d47c-0bf3-4477-b40c-bdbd4b61e159",
   "metadata": {},
   "outputs": [],
   "source": [
    "def sum_of_intervals(intervals):\n",
    "    # sort intervals into numerical order\n",
    "    intervals.sort()\n",
    "    \n",
    "    # check if intervals has only 1 interval, if so, return difference in interval\n",
    "    if len(intervals) == 1:\n",
    "        return intervals[0][1] - intervals[0][0]\n",
    "    \n",
    "    # loop through all intervals to see if they overlap with the previous one\n",
    "    for i in range(1, len(intervals)):\n",
    "        if intervals[i][0] <= intervals[i-1][1]:\n",
    "            intervals[i] = [intervals[i-1][1], intervals[i][1]]\n",
    "        # check if new lower-value is greater than the larger-value, if so replace larger-value with lower-value\n",
    "        if intervals[i][0] >= intervals[i][1]:\n",
    "            intervals[i][1] = intervals[i][0]\n",
    "    \n",
    "    # create ans variable\n",
    "    ans = 0\n",
    "    # loop through intervals and calculate difference on each one (there will be no overlaps now)\n",
    "    for interval in intervals:\n",
    "        ans += interval[1] - interval[0]\n",
    "    return ans\n",
    "\n"
   ]
  },
  {
   "cell_type": "markdown",
   "id": "abaf431e-3a93-4867-9f3f-88d022b86660",
   "metadata": {},
   "source": [
    "# Level 4\n",
    "[Range Extraction](https://www.codewars.com/kata/51ba717bb08c1cd60f00002f)\n",
    "\n",
    "## DESCRIPTION:\n",
    "A format for expressing an ordered list of integers is to use a comma separated list of either\n",
    "\n",
    "* individual integers\n",
    "* or a range of integers denoted by the starting integer separated from the end integer in the range by a dash, '-'. The range includes all integers in the interval including both endpoints. It is not considered a range unless it spans at least 3 numbers. For example \"12,13,15-17\"\n",
    "\n",
    "Complete the solution so that it takes a list of integers in increasing order and returns a correctly formatted string in the range format.\n",
    "\n",
    "Example:\n",
    "```python\n",
    "solution([-10, -9, -8, -6, -3, -2, -1, 0, 1, 3, 4, 5, 7, 8, 9, 10, 11, 14, 15, 17, 18, 19, 20])\n",
    "# returns \"-10--8,-6,-3-1,3-5,7-11,14,15,17-20\"\n",
    "```\n"
   ]
  },
  {
   "cell_type": "code",
   "execution_count": 3,
   "id": "35e724f1-5f13-4ffe-8c25-132d7e09d246",
   "metadata": {},
   "outputs": [],
   "source": [
    "def solution(args):\n",
    "    if len(args) < 3:                                    # catch if args is less than 3\n",
    "        strings = [str(x) for x in args]                 # convert elements in list to strings\n",
    "        return \",\".join(strings)                         # return args as string\n",
    "    for i in range(1, len(args)-1):                      # loop through elements in args not including 1st and last \n",
    "        if args[i-1] == args[i]-1 and args[i]+1 == args[i+1]:     # if element is between 2 other consecutive ints change to \"-\"\n",
    "            args[i] = \"-\"\n",
    "        if args[i-1] == \"-\" and args[i]+1 == args[i+1]:           # if element is after \"-\" and before consecutive int change to \"-\"\n",
    "            args[i] = \"-\"\n",
    "    answer = str(args[0])                                # create variable string with 1st element\n",
    "    for x in range(1, len(args)):                        # loop through elements in args not including 1st\n",
    "        if args[x] == '-' and answer[-1] != '-':         # if element is \"-\" but not following \"-\" add element to answer\n",
    "            answer += args[x]                               # this removes multiple \"-\" in a row\n",
    "        if type(args[x]) == int and answer[-1] != '-':   # if element is int and not following \"-\" add \",\" & element to answer\n",
    "            answer += \",\"\n",
    "            answer += str(args[x])\n",
    "        if type(args[x]) == int and answer[-1] == '-':   # if element is int and following \"-\" add element to answer\n",
    "            answer += str(args[x])                       \n",
    "    return answer\n",
    "\n"
   ]
  },
  {
   "cell_type": "markdown",
   "id": "da317bbc-b40b-457d-b768-964a35191853",
   "metadata": {},
   "source": [
    "# Level 4\n",
    "[Strip Comments](https://www.codewars.com/kata/51c8e37cee245da6b40000bd)\n",
    "\n",
    "## DESCRIPTION:\n",
    "Complete the solution so that it strips all text that follows any of a set of comment markers passed in. Any whitespace at the end of the line should also be stripped out.\n",
    "\n",
    "Example:\n",
    "\n",
    "Given an input string of:\n",
    "\n",
    ">apples, pears # and bananas\n",
    ">grapes\n",
    ">bananas !apples\n",
    ">The output expected would be:\n",
    "\n",
    ">apples, pears\n",
    ">grapes\n",
    ">bananas\n",
    "\n",
    "The code would be called like so:\n",
    "```python\n",
    "result = solution(\"apples, pears # and bananas\\ngrapes\\nbananas !apples\", [\"#\", \"!\"])\n",
    "# result should == \"apples, pears\\ngrapes\\nbananas\"\n",
    "```\n"
   ]
  },
  {
   "cell_type": "markdown",
   "id": "76847ee5-7433-4af5-bda2-40d2d568e74f",
   "metadata": {},
   "source": [
    "# Level 4\n",
    "[Sudoku Solution Validator](https://www.codewars.com/kata/529bf0e9bdf7657179000008)\n",
    "\n",
    "## DESCRIPTION:\n",
    "Sudoku Background\n",
    "Sudoku is a game played on a 9x9 grid. The goal of the game is to fill all cells of the grid with digits from 1 to 9, so that each column, each row, and each of the nine 3x3 sub-grids (also known as blocks) contain all of the digits from 1 to 9.\n",
    "(More info at: http://en.wikipedia.org/wiki/Sudoku)\n",
    "\n",
    "Sudoku Solution Validator\n",
    "Write a function validSolution/ValidateSolution/valid_solution() that accepts a 2D array representing a Sudoku board, and returns true if it is a valid solution, or false otherwise. The cells of the sudoku board may also contain 0's, which will represent empty cells. Boards containing one or more zeroes are considered to be invalid solutions.\n",
    "\n",
    "The board is always 9 cells by 9 cells, and every cell only contains integers from 0 to 9.\n",
    "\n",
    "Examples\n",
    "```python\n",
    "validSolution([\n",
    "  [5, 3, 4, 6, 7, 8, 9, 1, 2],\n",
    "  [6, 7, 2, 1, 9, 5, 3, 4, 8],\n",
    "  [1, 9, 8, 3, 4, 2, 5, 6, 7],\n",
    "  [8, 5, 9, 7, 6, 1, 4, 2, 3],\n",
    "  [4, 2, 6, 8, 5, 3, 7, 9, 1],\n",
    "  [7, 1, 3, 9, 2, 4, 8, 5, 6],\n",
    "  [9, 6, 1, 5, 3, 7, 2, 8, 4],\n",
    "  [2, 8, 7, 4, 1, 9, 6, 3, 5],\n",
    "  [3, 4, 5, 2, 8, 6, 1, 7, 9]\n",
    "]); // => true\n",
    "```\n",
    "```python\n",
    "validSolution([\n",
    "  [5, 3, 4, 6, 7, 8, 9, 1, 2], \n",
    "  [6, 7, 2, 1, 9, 0, 3, 4, 8],\n",
    "  [1, 0, 0, 3, 4, 2, 5, 6, 0],\n",
    "  [8, 5, 9, 7, 6, 1, 0, 2, 0],\n",
    "  [4, 2, 6, 8, 5, 3, 7, 9, 1],\n",
    "  [7, 1, 3, 9, 2, 4, 8, 5, 6],\n",
    "  [9, 0, 1, 5, 3, 7, 2, 1, 4],\n",
    "  [2, 8, 7, 4, 1, 9, 6, 3, 5],\n",
    "  [3, 0, 0, 4, 8, 1, 1, 7, 9]\n",
    "]); // => false\n",
    "```"
   ]
  },
  {
   "cell_type": "code",
   "execution_count": 4,
   "id": "d302ab14-d0b6-4fa7-8d0f-97d97224f2bd",
   "metadata": {},
   "outputs": [],
   "source": [
    "def valid_solution(board):\n",
    "    nums = {1, 2, 3, 4, 5, 6, 7, 8, 9}   # create set to compare against\n",
    "    for row in range(9):\n",
    "        if set(board[row]) != nums:      # checks rows by comparing the set of each sub-list against a set of numbers 1-9\n",
    "            return False\n",
    "        cols = []\n",
    "        for col in range(9):             # checks columns by using nested for loops to check position 'col' of each sub-list\n",
    "            cols.append(board[col][row])\n",
    "        if set(cols) != nums:\n",
    "            return False\n",
    "    sub_grid = []                        # checks 3x3 grids by using 4 nested for loops \n",
    "    for x in range(0, 9, 3):             # it creates a sub-grid list and compares the set of it against a set of numbers 1-9\n",
    "        for y in range(0, 9, 3):         # the for loops step up in 3s to get all 9 of them\n",
    "            for i in range(3):\n",
    "                for o in range(3):\n",
    "                    sub_grid.append(board[x+i][y+o])\n",
    "            if set(sub_grid) != nums:\n",
    "                return False\n",
    "            sub_grid = []\n",
    "\n",
    "    return True                          # returns True if solution passes all others tests\n",
    "\n"
   ]
  },
  {
   "cell_type": "markdown",
   "id": "51f93f05-e0a4-4a89-bb8a-2506a596ab45",
   "metadata": {
    "tags": []
   },
   "source": [
    "# Level 4\n",
    "[Human readable duration format](https://www.codewars.com/kata/52742f58faf5485cae000b9a)\n",
    "\n",
    "## DESCRIPTION:\n",
    "Your task in order to complete this Kata is to write a function which formats a duration, given as a number of seconds, in a human-friendly way.\n",
    "\n",
    "The function must accept a non-negative integer. If it is zero, it just returns \"now\". Otherwise, the duration is expressed as a combination of years, days, hours, minutes and seconds.\n",
    "\n",
    "It is much easier to understand with an example:\n",
    "\n",
    "* For seconds = 62, your function should return \n",
    "    \"1 minute and 2 seconds\"\n",
    "* For seconds = 3662, your function should return\n",
    "    \"1 hour, 1 minute and 2 seconds\"\n",
    "    \n",
    "For the purpose of this Kata, a year is 365 days and a day is 24 hours.\n",
    "\n",
    "Note that spaces are important.\n",
    "\n",
    "Detailed rules\n",
    "The resulting expression is made of components like 4 seconds, 1 year, etc. In general, a positive integer and one of the valid units of time, separated by a space. The unit of time is used in plural if the integer is greater than 1.\n",
    "\n",
    "The components are separated by a comma and a space (\", \"). Except the last component, which is separated by \" and \", just like it would be written in English.\n",
    "\n",
    "A more significant units of time will occur before than a least significant one. Therefore, 1 second and 1 year is not correct, but 1 year and 1 second is.\n",
    "\n",
    "Different components have different unit of times. So there is not repeated units like in 5 seconds and 1 second.\n",
    "\n",
    "A component will not appear at all if its value happens to be zero. Hence, 1 minute and 0 seconds is not valid, but it should be just 1 minute.\n",
    "\n",
    "A unit of time must be used \"as much as possible\". It means that the function should not return 61 seconds, but 1 minute and 1 second instead. Formally, the duration specified by of a component must not be greater than any valid more significant unit of time.\n",
    "\n"
   ]
  },
  {
   "cell_type": "code",
   "execution_count": 5,
   "id": "cee4ea66-c1c4-46e0-be49-0f64c1d546e1",
   "metadata": {},
   "outputs": [],
   "source": [
    "def format_duration(seconds):\n",
    "    scs = seconds%60                # use modulo to get seconds\n",
    "    mns = (seconds//60)%60          # use integer divide and modulo to get mins, hrs, dys, yrs\n",
    "    hrs = (seconds//3600)%24        \n",
    "    dys = (seconds//86400)%365\n",
    "    yrs = (seconds//86400)//365\n",
    "    periods = ['year', 'day', 'hour', 'minute', 'second']\n",
    "    lengths = [yrs, dys, hrs, mns, scs]    # variables lengths and periods have the same index numbers so can be used together\n",
    "    lengths_plus_periods = []              # lengths_plus_periods will store strings of periods for the return\n",
    "    for i in range(len(lengths)):\n",
    "        if lengths[i] > 0:                 # add length if greater than zero\n",
    "            lengths_plus_periods.append(str(lengths[i]) + ' ' + periods[i])\n",
    "        if lengths[i] > 1:                 # add 's' to the end if greater than 1\n",
    "            lengths_plus_periods[-1] = lengths_plus_periods[-1] + 's'\n",
    "    if len(lengths_plus_periods) == 0:     # catch when zero seconds entered\n",
    "        return 'now'\n",
    "    if len(lengths_plus_periods) == 1:     # catch when only 1 period to answer\n",
    "        return lengths_plus_periods[0]\n",
    "    return ', '.join(lengths_plus_periods[0:-1]) + ' and ' + lengths_plus_periods[-1]\n",
    "\n"
   ]
  },
  {
   "cell_type": "markdown",
   "id": "b0c38dac-1008-4d62-a79b-4170ebbe6610",
   "metadata": {},
   "source": [
    "# Level 5\n",
    "[Human Readable Time](https://www.codewars.com/kata/52685f7382004e774f0001f7)\n",
    "\n",
    "## DESCRIPTION:\n",
    "Write a function, which takes a non-negative integer (seconds) as input and returns the time in a human-readable format (HH:MM:SS)\n",
    "\n",
    "* HH = hours, padded to 2 digits, range: 00 - 99\n",
    "* MM = minutes, padded to 2 digits, range: 00 - 59\n",
    "* SS = seconds, padded to 2 digits, range: 00 - 59\n",
    "\n",
    "The maximum time never exceeds 359999 (99:59:59)\n",
    "\n",
    "You can find some examples in the test fixtures."
   ]
  },
  {
   "cell_type": "code",
   "execution_count": 6,
   "id": "000dcc39-d043-4759-9735-f33f1f6260dd",
   "metadata": {},
   "outputs": [],
   "source": [
    "def make_readable(seconds):\n",
    "    secs = seconds%60                # use modulo to get seconds\n",
    "    mins = (seconds//60)%60          # use integer divide and modulo to get mins\n",
    "    hrs = (seconds//60)//60          # use integer divide twice to get hours\n",
    "    return str('%02d' % hrs) + \":\" + str('%02d' % mins) + \":\" + str('%02d' % secs)\n",
    "\n"
   ]
  },
  {
   "cell_type": "code",
   "execution_count": 7,
   "id": "8a0901b1-7d06-47ff-b890-ae9bf7ac5d1c",
   "metadata": {
    "tags": []
   },
   "outputs": [],
   "source": [
    "# Earlier version! \n",
    "\n",
    "def make_readable(seconds):\n",
    "    hrs = \"00\"                               # create variables for return \n",
    "    mns = \"00\"                               # variables are strings so that .zfill will work later\n",
    "    scs = \"00\"\n",
    "    if seconds % 60 > 0:                     # use modulo to get remainder when seconds divided by 60\n",
    "        scs = str(seconds % 60)              # save remainder to scs as a string\n",
    "        seconds = seconds - (seconds % 60)   # minus remainder from seconds\n",
    "    minutes = seconds / 60                   # get minutes by dividing seconds by 60\n",
    "    if minutes % 60 > 0:                     # use modulo to get remainder when seconds divided by 60\n",
    "        mns = str(int(minutes % 60))         # save remainder to mns as a string\n",
    "        minutes = minutes - (minutes % 60)   # minus remainder from minutes\n",
    "    hrs = str(int(minutes / 60))             # get hours by dividing minutes by 60\n",
    "    return hrs.zfill(2) + \":\" + mns.zfill(2) + \":\" + scs.zfill(2)\n",
    "                                             # return hrs, mns and scs concatonated with \":\" use .zfill(2) to make sure they are at least 2 charactors long"
   ]
  },
  {
   "cell_type": "code",
   "execution_count": 8,
   "id": "274ec88e-57fd-4a1f-8e9b-9982a3c73976",
   "metadata": {},
   "outputs": [],
   "source": [
    "# Earlier version!\n",
    "\n",
    "def make_readable(seconds):\n",
    "    hrs = \"00\"\n",
    "    mns = \"00\"\n",
    "    scs = \"00\"\n",
    "    if seconds % 60 > 0:\n",
    "        scs = str(seconds % 60)\n",
    "        seconds = seconds - (seconds % 60)\n",
    "    minutes = seconds / 60\n",
    "    if minutes % 60 > 0:\n",
    "        mns = str(int(minutes % 60))\n",
    "        minutes = minutes - (minutes % 60)\n",
    "    hrs = str(int(minutes / 60))\n",
    "    return hrs.zfill(2) + \":\" + mns.zfill(2) + \":\" + scs.zfill(2)\n"
   ]
  },
  {
   "cell_type": "markdown",
   "id": "2698e1fd-d83d-4e4d-9e0d-2d447d835ab8",
   "metadata": {},
   "source": [
    "# Level 5 - [Valid Parentheses](https://www.codewars.com/kata/52774a314c2333f0a7000688)\n",
    "\n",
    "## DESCRIPTION:\n",
    "Write a function that takes a string of parentheses, and determines if the order of the parentheses is valid. The function should return true if the string is valid, and false if it's invalid.\n",
    "\n",
    "Examples\n",
    "```\n",
    "\"()\"              =>  true\n",
    "\")(()))\"          =>  false\n",
    "\"(\"               =>  false\n",
    "\"(())((()())())\"  =>  true\n",
    "```\n",
    "Constraints\n",
    "```\n",
    "0 <= input.length <= 100\n",
    "```\n",
    "\n",
    "Along with opening (() and closing ()) parenthesis, input may contain any valid ASCII characters. Furthermore, the input string may be empty and/or not contain any parentheses at all. Do not treat other forms of brackets as parentheses (e.g. [], {}, <>)."
   ]
  },
  {
   "cell_type": "code",
   "execution_count": 9,
   "id": "da309802-f810-4c12-abcb-43dd2b30cabd",
   "metadata": {},
   "outputs": [],
   "source": [
    "def valid_parentheses(string):\n",
    "    valid = 0              # create variable to monitor if valid \n",
    "    for i in string:       # for loop to cyclee through all characters in string\n",
    "        if i == \"(\":       # add 1 to valid if \"()\"\n",
    "            valid +=1\n",
    "        if i == \")\":       # minus 1 from valid if \")\"\n",
    "            valid -=1\n",
    "        if valid < 0:      # if valid drops below zero, there have been too many \")\" to be correct\n",
    "            return False\n",
    "    if valid == 0:         # valid will be zero if correct\n",
    "        return True\n",
    "    else:\n",
    "        return False\n",
    "    "
   ]
  },
  {
   "cell_type": "markdown",
   "id": "41a1f479-c566-41a5-b0d8-ea4e1672265f",
   "metadata": {},
   "source": [
    "# Level 5 - [Moving Zeros To The End](https://www.codewars.com/kata/52597aa56021e91c93000cb0)\n"
   ]
  },
  {
   "cell_type": "code",
   "execution_count": 10,
   "id": "010c1376-d473-40f1-a6b0-193c61dde496",
   "metadata": {},
   "outputs": [],
   "source": [
    "def move_zeros(array):\n",
    "\tzeroCount = sum(1 for item in array if item == 0 and type(item) != bool)\n",
    "\toutput = [item for item in array if (type(item) == bool) or item !=0]\n",
    "\tfor add in range(zeroCount):\n",
    "\t\toutput.append(0)\n",
    "\treturn(output)\n"
   ]
  },
  {
   "cell_type": "markdown",
   "id": "e928c623-5821-4aae-aa4b-83e38b9e8cd8",
   "metadata": {},
   "source": [
    "# Level 6\n",
    "[Create Phone Number](https://www.codewars.com/kata/525f50e3b73515a6db000b83)\n",
    "\n",
    "## DESCRIPTION:\n",
    "Write a function that accepts an array of 10 integers (between 0 and 9), that returns a string of those numbers in the form of a phone number.\n",
    "\n",
    "Example\n",
    "```python\n",
    "create_phone_number([1, 2, 3, 4, 5, 6, 7, 8, 9, 0]) # => returns \"(123) 456-7890\"\n",
    "```\n",
    "\n",
    "The returned format must be correct in order to complete this challenge.\n",
    "\n",
    "Don't forget the space after the closing parentheses!"
   ]
  },
  {
   "cell_type": "code",
   "execution_count": 11,
   "id": "5fb3ed62-d3b2-43e7-9480-5785d44b54ee",
   "metadata": {},
   "outputs": [],
   "source": [
    "def create_phone_number(n):\n",
    "    return \"(\" + \"\".join(str(i) for i in n[0:3]) +\") \" + \"\".join(str(i) for i in n[3:6]) + \"-\" + \"\".join(str(i) for i in n[6:10])\n",
    "    \n",
    "    "
   ]
  },
  {
   "cell_type": "markdown",
   "id": "93918c5d-b85b-4dd7-b4bc-871810699677",
   "metadata": {},
   "source": [
    "# Level 6\n",
    "[Multiples of 3 or 5](https://www.codewars.com/kata/514b92a657cdc65150000006)\n",
    "\n",
    "## DESCRIPTION:\n",
    "If we list all the natural numbers below 10 that are multiples of 3 or 5, we get 3, 5, 6 and 9. The sum of these multiples is 23.\n",
    "\n",
    "Finish the solution so that it returns the sum of all the multiples of 3 or 5 below the number passed in. Additionally, if the number is negative, return 0 (for languages that do have them).\n",
    "\n",
    "Note: If the number is a multiple of both 3 and 5, only count it once.\n"
   ]
  },
  {
   "cell_type": "code",
   "execution_count": 12,
   "id": "f6b192a1-8a3a-44e0-a6be-70293a2cccc5",
   "metadata": {},
   "outputs": [],
   "source": [
    "def solution(number):\n",
    "    answer = 0\n",
    "    for i in range(1, number):\n",
    "        if i % 3 ==0 or i % 5 ==0:\n",
    "            answer += i\n",
    "    return answer\n"
   ]
  },
  {
   "cell_type": "markdown",
   "id": "b2d49ad4-a1bb-450c-ab9a-772d7fe8ad3b",
   "metadata": {},
   "source": [
    "# Level 6 - [Tribonacci Sequence](https://www.codewars.com/kata/556deca17c58da83c00002db)\n",
    "\n",
    "## DESCRIPTION:\n",
    "Well met with Fibonacci bigger brother, AKA Tribonacci.\n",
    "\n",
    "As the name may already reveal, it works basically like a Fibonacci, but summing the last 3 (instead of 2) numbers of the sequence to generate the next. And, worse part of it, regrettably I won't get to hear non-native Italian speakers trying to pronounce it :(\n",
    "\n",
    "So, if we are to start our Tribonacci sequence with [1, 1, 1] as a starting input (AKA signature), we have this sequence:\n",
    "```\n",
    "[1, 1 ,1, 3, 5, 9, 17, 31, ...]\n",
    "```\n",
    "\n",
    "But what if we started with [0, 0, 1] as a signature? As starting with [0, 1] instead of [1, 1] basically shifts the common Fibonacci sequence by once place, you may be tempted to think that we would get the same sequence shifted by 2 places, but that is not the case and we would get:\n",
    "```\n",
    "[0, 0, 1, 1, 2, 4, 7, 13, 24, ...]\n",
    "```\n",
    "\n",
    "Well, you may have guessed it by now, but to be clear: you need to create a fibonacci function that given a signature array/list, returns the first n elements - signature included of the so seeded sequence.\n",
    "\n",
    "Signature will always contain 3 numbers; n will always be a non-negative number; if n == 0, then return an empty array (except in C return NULL) and be ready for anything else which is not clearly specified ;)\n",
    "\n",
    "If you enjoyed this kata more advanced and generalized version of it can be found in the Xbonacci kata\n",
    "\n",
    "[Personal thanks to Professor Jim Fowler on Coursera for his awesome classes that I really recommend to any math enthusiast and for showing me this mathematical curiosity too with his usual contagious passion :)]"
   ]
  },
  {
   "cell_type": "code",
   "execution_count": 13,
   "id": "4aae386f-ee9d-4d0d-9d05-6e9de138217f",
   "metadata": {},
   "outputs": [],
   "source": [
    "def tribonacci(signature, n):\n",
    "    ans = []                          # create empty answer list\n",
    "    for i in range(0, min(3, n)):     #  for loop to add up to 3 first numbers to ans list. This works 0 - 3\n",
    "        ans.append(signature[i])\n",
    "    if n > 3:                         # if n is greater than 3\n",
    "        for x in range(3, n):         # for loop to calculate and add further numbers\n",
    "            ans.append(ans[x-1] + ans[x-2] + ans[x-3])\n",
    "    return ans\n",
    "\n"
   ]
  },
  {
   "cell_type": "markdown",
   "id": "16cc1f6b-8194-4a6d-b357-e1e1cfcba2e7",
   "metadata": {},
   "source": [
    "# Level 6 - [Multiplication table](https://www.codewars.com/kata/534d2f5b5371ecf8d2000a08)\n",
    "\n",
    "## DESCRIPTION:\n",
    "Your task, is to create N×N multiplication table, of size provided in parameter.\n",
    "\n",
    "For example, when given size is 3:\n",
    "```\n",
    "1 2 3\n",
    "2 4 6\n",
    "3 6 9\n",
    "```\n",
    "\n",
    "For the given example, the return value should be:\n",
    "```python\n",
    "[[1,2,3],[2,4,6],[3,6,9]]\n",
    "```\n"
   ]
  },
  {
   "cell_type": "code",
   "execution_count": 14,
   "id": "66afae07-2f29-48f2-92d5-5416d2b4715a",
   "metadata": {},
   "outputs": [],
   "source": [
    "def multiplication_table(size):\n",
    "    ans=[ ]\n",
    "    for i in range(1, size + 1):\n",
    "    \tline = [ ]\n",
    "    \tfor x in range(1, size + 1):\n",
    "    \t\tline.append(i*x)\n",
    "    \tans.append(line)\n",
    "    return ans\n"
   ]
  },
  {
   "cell_type": "markdown",
   "id": "846424ca-00ca-4622-9e48-8b92e9b7c1e7",
   "metadata": {},
   "source": [
    "# Level 6 - [Count characters in your string](https://www.codewars.com/kata/52efefcbcdf57161d4000091)\n"
   ]
  },
  {
   "cell_type": "code",
   "execution_count": 15,
   "id": "62548a7b-8e16-4d2a-a82f-664d777eda19",
   "metadata": {},
   "outputs": [],
   "source": [
    "def count(string):\n",
    "\tchar={}\n",
    "\tfor letter in string:\n",
    "\t\tif letter in char:\n",
    "\t\t\tchar[letter]+=1\n",
    "\t\telse:\n",
    "\t\t\tchar[letter]=1\n",
    "\treturn char\n"
   ]
  },
  {
   "cell_type": "markdown",
   "id": "2d5eaa7a-d874-4116-b4e1-c47b3357e17b",
   "metadata": {},
   "source": [
    "# Level 6 - [Vasya - Clerk](https://www.codewars.com/kata/555615a77ebc7c2c8a0000b8)\n"
   ]
  },
  {
   "cell_type": "code",
   "execution_count": 16,
   "id": "1a3bcd41-9fa4-4fe7-a0d0-99afe24580d5",
   "metadata": {},
   "outputs": [],
   "source": [
    "def tickets(people):\n",
    "\ttwentyfive=0\n",
    "\tfifty=0\n",
    "\tfor note in people:\n",
    "\t\tif note==25:\n",
    "\t\t\ttwentyfive+=1\n",
    "\t\telif note == 50:\n",
    "\t\t\ttwentyfive-=1\n",
    "\t\t\tfifty+=1\n",
    "\t\telse:\n",
    "\t\t\tif fifty > 0:\n",
    "\t\t\t\tfifty-=1\n",
    "\t\t\t\ttwentyfive-=1\n",
    "\t\t\telse:\n",
    "\t\t\t\ttwentyfive-=3\n",
    "\t\tif twentyfive < 0:\n",
    "\t\t\treturn 'NO'\n",
    "\t\n",
    "\treturn 'YES'\n"
   ]
  },
  {
   "cell_type": "markdown",
   "id": "0b946465-dd83-4902-ab93-0fed4660d6ed",
   "metadata": {},
   "source": [
    "# Level 6 - [Two Sum](https://www.codewars.com/kata/52c31f8e6605bcc646000082)\n"
   ]
  },
  {
   "cell_type": "code",
   "execution_count": 17,
   "id": "26c6cdea-e37f-409a-afc7-2834470591d2",
   "metadata": {},
   "outputs": [],
   "source": [
    "def two_sum(numbers, target):\n",
    "\tfor a in range(len(numbers)):\n",
    "\t\tfor b in range((a+1), len(numbers)):\n",
    "\t\t\tif numbers[a]+numbers[b]==target:\n",
    "\t\t\t\treturn(a,b)\n"
   ]
  },
  {
   "cell_type": "markdown",
   "id": "5580c55a-adf7-45d3-ba74-80b0964391e8",
   "metadata": {},
   "source": [
    "# Level 6 - [Counting Duplicates](https://www.codewars.com/kata/54bf1c2cd5b56cc47f0007a1)\n"
   ]
  },
  {
   "cell_type": "code",
   "execution_count": 18,
   "id": "3289a96a-3ad5-4232-b6de-a22e3ca0a4e5",
   "metadata": {},
   "outputs": [],
   "source": [
    "def duplicate_count(text):\n",
    "\tcount=0\n",
    "\ttext=text.lower()\n",
    "\tfor letter in text:\n",
    "\t\tif text.count(letter) > 1:\n",
    "\t\t\tcount+=1/text.count(letter)\n",
    "\treturn(round(count))\n"
   ]
  },
  {
   "cell_type": "markdown",
   "id": "fb695eb8-8915-418b-9ad9-5879c645a79f",
   "metadata": {},
   "source": [
    "# Level 6 - [Duplicate Encoder](https://www.codewars.com/kata/54b42f9314d9229fd6000d9c)"
   ]
  },
  {
   "cell_type": "code",
   "execution_count": 19,
   "id": "8b026b4b-3ea1-445e-b7c1-1c5871edf349",
   "metadata": {},
   "outputs": [],
   "source": [
    "def duplicate_encode(word):\n",
    "\toutput=\"\"\n",
    "\tword=word.lower()\n",
    "\tfor letter in word:\n",
    "\t\tif word.count(letter) >1:\n",
    "\t\t\toutput+=\")\"\n",
    "\t\telse:\n",
    "\t\t\toutput+=\"(\"\n",
    "\treturn(output)\n"
   ]
  },
  {
   "cell_type": "markdown",
   "id": "95358622-7fad-42f7-a71c-326ed4a87498",
   "metadata": {},
   "source": [
    "# Level 6 - [Consecutive strings](https://www.codewars.com/kata/56a5d994ac971f1ac500003e)\n"
   ]
  },
  {
   "cell_type": "code",
   "execution_count": 20,
   "id": "80934f69-b53f-4445-8253-38c7fdaaa9ca",
   "metadata": {},
   "outputs": [],
   "source": [
    "def longest_consec(strarr, k):\n",
    "\tstrLen=[ ]\n",
    "\tlenCalc=[ ]\n",
    "\toutput=\"\"\n",
    "# make list of string lengths\n",
    "\tfor string in strarr:\n",
    "\t\tstrLen.append(len(string))\n",
    "\tif strarr==0 or len(strarr)<k or k<=0:\n",
    "\t\treturn(\"\")\n",
    "#make list of all possible output lengths\n",
    "\tfor w in range((len(strarr)-k)+1):\n",
    "\t\tconcat=\"\"\n",
    "\t\tfor e in range(k):\n",
    "\t\t\tconcat+=strarr[(e+w)]\n",
    "\t\tlenCalc.append(len(concat))\n",
    "\t\n",
    "\tlongestPosition=(lenCalc.index(max(lenCalc)))\n",
    "#calculate output\n",
    "\tfor r in range(k):\n",
    "\t\t\toutput+=strarr[(r+longestPosition)]\n",
    "\t\t\t\n",
    "\treturn(output)\n"
   ]
  },
  {
   "cell_type": "markdown",
   "id": "6f2166fa-8768-4eb2-b7cf-eb848f54008e",
   "metadata": {},
   "source": [
    "# Level 6 - [Unique In Order](https://www.codewars.com/kata/54e6533c92449cc251001667)\n"
   ]
  },
  {
   "cell_type": "code",
   "execution_count": 21,
   "id": "425e1df5-cf5e-40c6-8d99-256a13cc7801",
   "metadata": {},
   "outputs": [],
   "source": [
    "def unique_in_order(iterable):\n",
    "\toutputList=[ ]\n",
    "\tif len(iterable) == 0:\n",
    "\t\treturn(outputList)\n",
    "\toutputList.append(iterable[0])\n",
    "\tfor z in iterable:\n",
    "\t\tif outputList[-1] != z:\n",
    "\t\t\toutputList.append(z)\n",
    "\treturn(outputList)\n"
   ]
  },
  {
   "cell_type": "markdown",
   "id": "7de4acab-5517-4082-b275-8443cdcca0bd",
   "metadata": {},
   "source": [
    "# Level 6 - [Array.diff](https://www.codewars.com/kata/523f5d21c841566fde000009)\n"
   ]
  },
  {
   "cell_type": "code",
   "execution_count": 22,
   "id": "2de38d2f-b8a3-4c7a-995b-22da96012534",
   "metadata": {},
   "outputs": [],
   "source": [
    "def array_diff(a, b):\n",
    "\tfor num in b:\n",
    "\t\twhile num in a:\n",
    "\t\t\ta.remove(num)\n",
    "\treturn(a)\n"
   ]
  },
  {
   "cell_type": "markdown",
   "id": "4dde37a4-3478-4200-8019-13e1405f7e0c",
   "metadata": {},
   "source": [
    "# Level 7\n",
    "[Disemvowel Trolls](https://www.codewars.com/kata/52fba66badcd10859f00097e)\n",
    "\n",
    "## DESCRIPTION:\n",
    "Trolls are attacking your comment section!\n",
    "\n",
    "A common way to deal with this situation is to remove all of the vowels from the trolls' comments, neutralizing the threat.\n",
    "\n",
    "Your task is to write a function that takes a string and return a new string with all vowels removed.\n",
    "\n",
    "For example, the string \"This website is for losers LOL!\" would become \"Ths wbst s fr lsrs LL!\".\n",
    "\n",
    "Note: for this kata y isn't considered a vowel."
   ]
  },
  {
   "cell_type": "code",
   "execution_count": 23,
   "id": "2e36931f-744f-4b51-8ee9-6c583214cbc7",
   "metadata": {},
   "outputs": [],
   "source": [
    "def disemvowel(string_):\n",
    "    answer = ''\n",
    "    vowels = 'aeiouAEIOU'\n",
    "    for i in string_:\n",
    "        if i not in vowels:\n",
    "            answer += i\n",
    "    return answer\n",
    "\n"
   ]
  },
  {
   "cell_type": "markdown",
   "id": "4047d922-8c27-4446-a669-3e1388ec032c",
   "metadata": {},
   "source": [
    "# Level 7\n",
    "\n",
    "[Vowel Count](https://www.codewars.com/kata/54ff3102c1bad923760001f3)\n",
    "\n",
    "## DESCRIPTION:\n",
    "Return the number (count) of vowels in the given string.\n",
    "\n",
    "We will consider a, e, i, o, u as vowels for this Kata (but not y).\n",
    "\n",
    "The input string will only consist of lower case letters and/or spaces.\n"
   ]
  },
  {
   "cell_type": "code",
   "execution_count": 24,
   "id": "7ab14c01-4800-487a-a6a6-12a58340808d",
   "metadata": {},
   "outputs": [],
   "source": [
    "def get_count(sentence):\n",
    "    vowel_counter = 0\n",
    "    vowels = ['a', 'e', 'i', 'o', 'u']\n",
    "    for i in sentence:\n",
    "        if i in vowels:\n",
    "            vowel_counter += 1\n",
    "    return vowel_counter\n"
   ]
  },
  {
   "cell_type": "markdown",
   "id": "994b4190-7ada-49ad-8349-af9ca4f2a800",
   "metadata": {},
   "source": [
    "# Level 8 - [Return Negative](https://www.codewars.com/kata/55685cd7ad70877c23000102)\n",
    "\n",
    "## DESCRIPTION:\n",
    "In this simple assignment you are given a number and have to make it negative. But maybe the number is already negative?\n",
    "\n",
    "Examples\n",
    "```\n",
    "make_negative(1);  # return -1\n",
    "make_negative(-5); # return -5\n",
    "make_negative(0);  # return 0\n",
    "```\n",
    "\n",
    "Notes\n",
    "The number can be negative already, in which case no change is required.\n",
    "Zero (0) is not checked for any specific sign. Negative zeros make no mathematical sense."
   ]
  },
  {
   "cell_type": "code",
   "execution_count": 25,
   "id": "e816cb66-a7e1-486e-b80b-51e26b0f5f1e",
   "metadata": {},
   "outputs": [],
   "source": [
    "def make_negative( number ):\n",
    "    return -abs(number)      # -abs() returns the negative of any number. It doesn't matter if the input is pos or neg\n"
   ]
  },
  {
   "cell_type": "markdown",
   "id": "bcf70369-4c39-4171-af54-c3bdb9b840c3",
   "metadata": {},
   "source": [
    "# Level 7 - [Binary Addition](https://www.codewars.com/kata/551f37452ff852b7bd000139)\n"
   ]
  },
  {
   "cell_type": "code",
   "execution_count": 26,
   "id": "46f0b284-f1ca-4dad-ba71-41c788fa7bc9",
   "metadata": {},
   "outputs": [],
   "source": [
    "def add_binary(a,b):\n",
    "\toutput=str(bin(a+b))\n",
    "\treturn(output.replace(\"0b\", \"\"))\n"
   ]
  },
  {
   "cell_type": "markdown",
   "id": "6a2efcac-575c-49f4-9d2c-b3c59a445256",
   "metadata": {},
   "source": [
    "# Level 7 - [You're a square!](https://www.codewars.com/kata/54c27a33fb7da0db0100040e)\n"
   ]
  },
  {
   "cell_type": "code",
   "execution_count": 27,
   "id": "49c25d28-55c4-484b-99f4-81fcc14c1018",
   "metadata": {},
   "outputs": [],
   "source": [
    "def is_square(n):    \n",
    "\timport math\n",
    "\tif n < 0:\n",
    "\t\treturn False\n",
    "\telif math.sqrt(n) % 1 == 0:\n",
    "\t\treturn True\n",
    "\telse:\n",
    "\t\treturn False\n"
   ]
  },
  {
   "cell_type": "markdown",
   "id": "84c9d675-1de3-4889-9e7d-9c110833338a",
   "metadata": {},
   "source": [
    "# Level 7 - [Beginner Series #3 Sum of Numbers](https://www.codewars.com/kata/55f2b110f61eb01779000053)\n",
    "\n"
   ]
  },
  {
   "cell_type": "code",
   "execution_count": 28,
   "id": "df12c5bb-d069-4513-8088-1ca7802c6e0e",
   "metadata": {},
   "outputs": [],
   "source": [
    "def get_sum(a,b):\n",
    "    if a == b:                           # return a if a == b\n",
    "        return a\n",
    "    if a < b:                            # if/else orders the numbers into low and high\n",
    "        low_num = a\n",
    "        high_num = b\n",
    "    else:\n",
    "        low_num = b\n",
    "        high_num = a\n",
    "    result = high_num                    # creates result variable \n",
    "    for i in range(low_num, high_num):   # loops through all integers betwen both numbers \n",
    "        result += i                      # adds each number \n",
    "    return result\n",
    "\n"
   ]
  },
  {
   "cell_type": "markdown",
   "id": "b9ee31ec-a5cf-4591-9f3e-616d733ff8d6",
   "metadata": {},
   "source": [
    "# Level 7 - [Isograms](https://www.codewars.com/kata/54ba84be607a92aa900000f1)\n",
    "\n"
   ]
  },
  {
   "cell_type": "code",
   "execution_count": 29,
   "id": "c8ef9545-4df4-465e-a4b0-baabbf185e7a",
   "metadata": {},
   "outputs": [],
   "source": [
    "def is_isogram(string):\n",
    "    string = string.lower()                         # convert string to lowercase\n",
    "    for i in range(len(string)):\n",
    "        for x in range(len(string)):                # nested loops to go through all the characters\n",
    "            if string[i] == string[x] and i != x:   # check if character in each loop is the same but not the same index number\n",
    "                return False                        # stop function and return False if repetition found \n",
    "    return True\n",
    "\n"
   ]
  },
  {
   "cell_type": "markdown",
   "id": "9625d65b-6182-4658-9211-5b7def6189cf",
   "metadata": {},
   "source": [
    "# Level 8 - [Are You Playing Banjo?](https://www.codewars.com/kata/53af2b8861023f1d88000832)\n",
    "\n"
   ]
  },
  {
   "cell_type": "code",
   "execution_count": 30,
   "id": "091437bf-ae6e-46e2-983b-fbfe7c2c0402",
   "metadata": {},
   "outputs": [],
   "source": [
    "def are_you_playing_banjo(name):\n",
    "    if name[0].lower() == \"r\":        # convert 1st character of name to lowercase and check if it is \"r\"\n",
    "        return name + \" plays banjo\"  # if \"r\" return this statement \n",
    "    else:\n",
    "        return name + \" does not play banjo\"  # else return this statement"
   ]
  },
  {
   "cell_type": "markdown",
   "id": "d83ebbf5-a0ac-4aec-beea-dee2e3bbcf17",
   "metadata": {},
   "source": [
    "# Level 7 [Reverse words](https://www.codewars.com/kata/5259b20d6021e9e14c0010d4)\n",
    "\n"
   ]
  },
  {
   "cell_type": "code",
   "execution_count": 31,
   "id": "51a1710a-8f59-48c1-a397-79311d507527",
   "metadata": {},
   "outputs": [],
   "source": [
    "def reverse_words(text):\n",
    "    word_list = text.split(\" \")  # Convert string to list using .split and using a single space as a separator\n",
    "    for i in range(len(word_list)): # loop through each word in the list and reverse it with slice\n",
    "        word_list[i] = word_list[i][::-1]\n",
    "    return \" \".join(word_list)  # return the list joined together with a single space\n",
    "\n"
   ]
  },
  {
   "cell_type": "markdown",
   "id": "1032b2f1-768a-43c9-9e8a-b2c64954ee61",
   "metadata": {},
   "source": [
    "# Level 7 - [Regex validate PIN code](https://www.codewars.com/kata/55f8a9c06c018a0d6e000132)\n",
    "\n"
   ]
  },
  {
   "cell_type": "code",
   "execution_count": 32,
   "id": "7c42dc66-d21c-4a94-b1a2-c7262d3383f4",
   "metadata": {},
   "outputs": [],
   "source": [
    "def validate_pin(pin):\n",
    "    for i in pin:   # cycle through each character eliminates decimal points and negatives etc\n",
    "        if i.isnumeric() == False:\n",
    "            return False    # all pin passing this point must be integer\n",
    "    if len(pin) == 4 or len(pin) == 6:   # checks length \n",
    "        return True\n",
    "    else:\n",
    "        return False\n"
   ]
  },
  {
   "cell_type": "markdown",
   "id": "f247e962-3810-4077-b48b-9a9df6740506",
   "metadata": {},
   "source": [
    "# Level 7 - [String ends with?](https://www.codewars.com/kata/51f2d1cafc9c0f745c00037d)\n",
    "\n"
   ]
  },
  {
   "cell_type": "code",
   "execution_count": 33,
   "id": "1f29005f-8c96-4ff0-afec-923c293287fc",
   "metadata": {},
   "outputs": [],
   "source": [
    "def solution(string, ending):\n",
    "    revstr = string[::-1]\n",
    "    revend = ending[::-1]\n",
    "    if revend > revstr:\n",
    "        return False\n",
    "    for i in range(len(ending)):\n",
    "        if revstr[i] != revend[i]:\n",
    "            return False\n",
    "    return True\n"
   ]
  },
  {
   "cell_type": "markdown",
   "id": "ac6cf205-046c-44f8-b1a6-872c1abc5403",
   "metadata": {},
   "source": [
    "# Level 8 - [Fake Binary](https://www.codewars.com/kata/57eae65a4321032ce000002d)\n",
    "\n"
   ]
  },
  {
   "cell_type": "code",
   "execution_count": 34,
   "id": "b22a0795-ff32-4243-b282-a5f925ec608b",
   "metadata": {},
   "outputs": [],
   "source": [
    "def fake_bin(x):\n",
    "    ans = \"\"               # create new string for answer\n",
    "    for i in x:            # loop through all the characters in the string (x)\n",
    "        if int(i) >= 5:    # convert character to integer for comparison\n",
    "            ans += \"1\"     # if true (>= 5) add character \"1\" to ans string\n",
    "        else:\n",
    "            ans += \"0\"     # else, if not true to above statement (<5) add character \"0\" to ans string\n",
    "    return ans\n"
   ]
  },
  {
   "cell_type": "markdown",
   "id": "f5f5daac-72da-4188-ac58-db47f4e64959",
   "metadata": {},
   "source": [
    "# Level 8 - [Reversed Strings](https://www.codewars.com/kata/5168bb5dfe9a00b126000018)\n",
    "\n"
   ]
  },
  {
   "cell_type": "code",
   "execution_count": 35,
   "id": "0060518d-8976-4cbd-8db7-fec68e97dddc",
   "metadata": {},
   "outputs": [],
   "source": [
    "def solution(string):\n",
    "    return string [::- 1] \n"
   ]
  },
  {
   "cell_type": "markdown",
   "id": "d8751fe0-5d38-4fef-924d-bac496a13f4e",
   "metadata": {},
   "source": [
    "# Level 7 - [Shortest Word](https://www.codewars.com/kata/57cebe1dc6fdc20c57000ac9)\n",
    "\n"
   ]
  },
  {
   "cell_type": "code",
   "execution_count": 36,
   "id": "02e10f94-f41b-4f11-8106-ef0992fe5b36",
   "metadata": {},
   "outputs": [],
   "source": [
    "def find_short(s):\n",
    "    l = list(s.split(\" \")) #split string into list\n",
    "    l.sort(key = len) #sort list\n",
    "    return len(l[0]) #return length of 1st item in list\n",
    "\n"
   ]
  },
  {
   "cell_type": "markdown",
   "id": "6b707e24-9c4a-46c1-b5ad-ae7f20387cff",
   "metadata": {},
   "source": [
    "# Level 8 - [String repeat](https://www.codewars.com/kata/57a0e5c372292dd76d000d7e)\n",
    "\n"
   ]
  },
  {
   "cell_type": "code",
   "execution_count": 37,
   "id": "cfa99e5e-a2ea-48bc-86d4-037726431021",
   "metadata": {},
   "outputs": [],
   "source": [
    "def repeat_str(repeat, string):\n",
    "    return (string * repeat)\n"
   ]
  },
  {
   "cell_type": "markdown",
   "id": "b4e9ed5d-9620-486a-a171-03f6a980ade0",
   "metadata": {},
   "source": [
    "# Level 7 - [Mumbling](https://www.codewars.com/kata/5667e8f4e3f572a8f2000039)\n",
    "\n"
   ]
  },
  {
   "cell_type": "code",
   "execution_count": 38,
   "id": "d4bbcd81-d3b0-4120-b899-34cba92808a0",
   "metadata": {},
   "outputs": [],
   "source": [
    "def accum(s):\n",
    "    answer = \"\"\n",
    "    for i in range(len(s)):\n",
    "        answer = answer + s[i].capitalize()\n",
    "        for x in range(i):\n",
    "            answer = answer + s.lower()[i]\n",
    "        answer = answer + \"-\"\n",
    "    return answer[:-1]"
   ]
  },
  {
   "cell_type": "markdown",
   "id": "21def5c5-fbd3-4311-b8ee-3894f0e39572",
   "metadata": {},
   "source": [
    "# Level 7 - [List Filtering](https://www.codewars.com/kata/53dbd5315a3c69eed20002dd)\n",
    "\n"
   ]
  },
  {
   "cell_type": "code",
   "execution_count": 39,
   "id": "4d99842c-4460-46e2-944e-bfb6ad51f0fd",
   "metadata": {},
   "outputs": [],
   "source": [
    "def filter_list(l):\n",
    "    newList = []\n",
    "    for i in l:\n",
    "        if type(i) == int:\n",
    "            newList.append(i)\n",
    "    return newList"
   ]
  },
  {
   "cell_type": "markdown",
   "id": "2af5b4a3-52e1-4381-a7f7-88badefb1897",
   "metadata": {},
   "source": [
    "# Level 7 - [Get the Middle Character](https://www.codewars.com/kata/56747fd5cb988479af000028)\n",
    "\n"
   ]
  },
  {
   "cell_type": "code",
   "execution_count": 40,
   "id": "ac4da7cb-f834-4578-9449-6058bdd5816e",
   "metadata": {},
   "outputs": [],
   "source": [
    "def get_middle(s):\n",
    "    if (len(s) % 2) == 0:\n",
    "        # if even number\n",
    "        return s[(len(s)//2)-1] + s[(len(s)//2)]\n",
    "    else:\n",
    "        # if odd number\n",
    "        return s[(len(s)//2)]\n"
   ]
  },
  {
   "cell_type": "markdown",
   "id": "945d0ce8-4c3b-43dd-a9a7-7f5176136b4e",
   "metadata": {},
   "source": [
    "# Level 8 - [Opposites Attract](https://www.codewars.com/kata/555086d53eac039a2a000083)\n",
    "\n"
   ]
  },
  {
   "cell_type": "code",
   "execution_count": 41,
   "id": "45e003c3-ebd6-4b1e-afbb-a1cbb39245a4",
   "metadata": {},
   "outputs": [],
   "source": [
    "def lovefunc( flower1, flower2 ):\n",
    "    if (flower1 + flower2) % 2 ==0:\n",
    "        return False\n",
    "    else:\n",
    "        return True\n"
   ]
  },
  {
   "cell_type": "markdown",
   "id": "41625d9e-1bef-4374-83e1-7ae21c11f8ef",
   "metadata": {},
   "source": [
    "# Level 8 - [Convert a Boolean to a String](https://www.codewars.com/kata/551b4501ac0447318f0009cd)\n"
   ]
  },
  {
   "cell_type": "code",
   "execution_count": 42,
   "id": "8010be3d-d1e1-4f1b-809c-4403ea245560",
   "metadata": {},
   "outputs": [],
   "source": [
    "def boolean_to_string(b):\n",
    "    if b == True:\n",
    "        return \"True\"\n",
    "    else:\n",
    "        return \"False\"\n"
   ]
  },
  {
   "cell_type": "markdown",
   "id": "22971262-c5ca-44ea-84b5-8ee5cf1e1625",
   "metadata": {},
   "source": [
    "# Level 8 - [Square(n) Sum](https://www.codewars.com/kata/515e271a311df0350d00000f)\n",
    "\n"
   ]
  },
  {
   "cell_type": "code",
   "execution_count": 43,
   "id": "ff39d981-45d4-479b-b569-eac08b7ecc23",
   "metadata": {},
   "outputs": [],
   "source": [
    "def square_sum(numbers):\n",
    "    res = []\n",
    "    for i in numbers:\n",
    "        res.append(i**2)\n",
    "    return sum(res)\n"
   ]
  },
  {
   "cell_type": "markdown",
   "id": "a8a608e5-d6d0-498b-92d9-60adb9fe280c",
   "metadata": {},
   "source": [
    "# Level 8 - [Opposite number](https://www.codewars.com/kata/56dec885c54a926dcd001095)\n"
   ]
  },
  {
   "cell_type": "code",
   "execution_count": 44,
   "id": "27c50175-ba3b-4083-8202-86f3bea17656",
   "metadata": {},
   "outputs": [],
   "source": [
    "def opposite(number):\n",
    "    return -number\n"
   ]
  },
  {
   "cell_type": "markdown",
   "id": "b77259b4-731f-4dd8-892e-a458e2bf37b0",
   "metadata": {},
   "source": [
    "# Level 8 - [Find the smallest integer in the array](https://www.codewars.com/kata/55a2d7ebe362935a210000b2)\n"
   ]
  },
  {
   "cell_type": "code",
   "execution_count": 45,
   "id": "a9c530ec-73dd-4943-9def-9a2cf81ac367",
   "metadata": {},
   "outputs": [],
   "source": [
    "def find_smallest_int(arr):\n",
    "    arr.sort()\n",
    "    return arr[0]\n"
   ]
  },
  {
   "cell_type": "markdown",
   "id": "07d63df5-76e6-46cd-b137-d59ec9cf13c9",
   "metadata": {},
   "source": [
    "# Level 7 - [Jaden Casing Strings](https://www.codewars.com/kata/5390bac347d09b7da40006f6)\n"
   ]
  },
  {
   "cell_type": "code",
   "execution_count": 46,
   "id": "e591d1af-47c0-4297-8dd7-8bb0f73b8a15",
   "metadata": {},
   "outputs": [],
   "source": [
    "def to_jaden_case(string):\n",
    "    seperate = string.split(\" \")\n",
    "    caps = []\n",
    "    for word in seperate:\n",
    "    \tcaps.append(word.capitalize())\n",
    "    return \" \".join(caps)\n"
   ]
  },
  {
   "cell_type": "markdown",
   "id": "c9d70d5f-02e8-4e8c-baa7-aeded6e137d9",
   "metadata": {},
   "source": [
    "# Level 8 - [Convert a Number to a String!](https://www.codewars.com/kata/5265326f5fda8eb1160004c8)\n"
   ]
  },
  {
   "cell_type": "code",
   "execution_count": 47,
   "id": "c460d361-6da0-4164-861a-32fd6ea37cd8",
   "metadata": {},
   "outputs": [],
   "source": [
    "def number_to_string(num):\n",
    "    return str(num) \n"
   ]
  },
  {
   "cell_type": "markdown",
   "id": "763a43a3-fcfe-4ed2-8dbb-ec25b2a65956",
   "metadata": {},
   "source": [
    "# Level 7 - [Sum of integers in string](https://www.codewars.com/kata/598f76a44f613e0e0b000026)\n"
   ]
  },
  {
   "cell_type": "code",
   "execution_count": 48,
   "id": "65e56866-0892-4f94-9e71-02fd0facf51b",
   "metadata": {},
   "outputs": [],
   "source": [
    "def sum_of_integers_in_string(s):\n",
    "    edit = \"\"\n",
    "    for i in s:\n",
    "    \tif i.isdigit():\n",
    "    \t\tedit += i\n",
    "    \telse:\n",
    "    \t\tedit += \",\"\n",
    "    answer = edit.split(',')\n",
    "    ans=0\n",
    "    for x in range(len(answer)):\n",
    "    \tif answer[x].isdigit():\n",
    "    \t\tans += int(answer[x])\n",
    "    \n",
    "    return ans\n"
   ]
  },
  {
   "cell_type": "markdown",
   "id": "e734f2ce-3108-4a68-a146-db48170da730",
   "metadata": {},
   "source": [
    "# Level 7 - [Driving School Series #2](https://www.codewars.com/kata/589b1c15081bcbfe6700017a)\n"
   ]
  },
  {
   "cell_type": "code",
   "execution_count": 49,
   "id": "d1045e3c-072e-4cad-8339-316568bc3815",
   "metadata": {},
   "outputs": [],
   "source": [
    "def cost(mins):\n",
    "    if mins <= 65:\n",
    "        return 30\n",
    "    else:\n",
    "        dur = mins - 65\n",
    "        count = dur // 30\n",
    "        if dur % 30 != 0:\n",
    "            count += 1\n",
    "        return count * 10 + 30\n"
   ]
  },
  {
   "cell_type": "markdown",
   "id": "e6d82826-dcc3-4faa-8d2b-9e2ea6b71982",
   "metadata": {},
   "source": [
    "# Level 7 - [The highest profit wins!](https://www.codewars.com/kata/559590633066759614000063)\n"
   ]
  },
  {
   "cell_type": "code",
   "execution_count": 50,
   "id": "1f1a7e13-ae32-4b7e-91cc-4b2410026cd5",
   "metadata": {},
   "outputs": [],
   "source": [
    "def min_max(lst):\n",
    "\treturn [min(lst), max(lst)]\n"
   ]
  },
  {
   "cell_type": "markdown",
   "id": "20aac8f8-7fb0-4d90-9dc5-6e152b619c2c",
   "metadata": {},
   "source": [
    "# Level 7 - [Changing letters](https://www.codewars.com/kata/5831c204a31721e2ae000294)\n"
   ]
  },
  {
   "cell_type": "code",
   "execution_count": 51,
   "id": "7c3b40f4-977e-4a3b-8d96-f90fb4bc566f",
   "metadata": {},
   "outputs": [],
   "source": [
    "def swap(st):\n",
    "\tvowels = \"aeiou\"\n",
    "\tfor let in vowels:\n",
    "\t\tst = st.replace(let, let.upper())\n",
    "\treturn st\n"
   ]
  },
  {
   "cell_type": "markdown",
   "id": "00cfad87-5caf-419e-ab2a-e84144995ad6",
   "metadata": {},
   "source": [
    "# Level 7 - [Paul's Misery](https://www.codewars.com/kata/57ee31c5e77282c24d000024)\n"
   ]
  },
  {
   "cell_type": "code",
   "execution_count": 52,
   "id": "af0780b8-5cf5-47e2-94b3-f09d37ef2ccb",
   "metadata": {},
   "outputs": [],
   "source": [
    "def paul(x):\n",
    "\tkata = x.count(\"kata\")\n",
    "\tpkata = x.count(\"Petes kata\")\n",
    "\tlife = x.count(\"life\")\n",
    "\teat = x.count(\"eating\")\n",
    "\t\n",
    "\tscore = (kata*5) + (pkata*10) + (life*0) + (eat*1)\n",
    "\tprint(score)\n",
    "\tif score < 40:\n",
    "\t\treturn \"Super happy!\"\n",
    "\telif score < 70 and score >= 40:\n",
    "\t\treturn \"Happy!\"\n",
    "\telif score < 100 and score >= 70:\n",
    "\t\treturn \"Sad!\"\n",
    "\telse:\n",
    "\t\treturn \"Miserable!\"\n",
    "\n"
   ]
  },
  {
   "cell_type": "markdown",
   "id": "67be1f35-ba1d-4df7-9bc1-646b53ea4927",
   "metadata": {},
   "source": [
    "# Level 7 - [Exclamation marks series #8: Move all exclamation marks to the end of the sentence](https://www.codewars.com/kata/57fafd0ed80daac48800019f)\n"
   ]
  },
  {
   "cell_type": "code",
   "execution_count": 53,
   "id": "9b96014f-295a-4ebd-87f7-fd7d14f37593",
   "metadata": {},
   "outputs": [],
   "source": [
    "def remove(s):\n",
    "\tanswer = \"\"\n",
    "\tcount = 0\n",
    "\tfor char in s:\n",
    "\t\tif char != \"!\":\n",
    "\t\t\tanswer += char\n",
    "\t\telse:\n",
    "\t\t\tcount += 1\n",
    "\tfor i in range(count):\n",
    "\t\tanswer += \"!\"\n",
    "\treturn answer"
   ]
  },
  {
   "cell_type": "markdown",
   "id": "e322b8a2-c718-4d3f-930d-4e0f4938a11e",
   "metadata": {},
   "source": [
    "# Level 8 - [Vowel remover](https://www.codewars.com/kata/5547929140907378f9000039)\n"
   ]
  },
  {
   "cell_type": "code",
   "execution_count": 54,
   "id": "d28a02b6-020e-4366-84eb-50671a50da0b",
   "metadata": {},
   "outputs": [],
   "source": [
    "def shortcut( s ):\n",
    "\tanswer=\"\"\n",
    "\tvowels=\"aeiou\"\n",
    "\tfor i in s:\n",
    "\t\tif i not in vowels:\n",
    "\t\t\tanswer = answer+i\n",
    "\treturn answer\n"
   ]
  },
  {
   "cell_type": "markdown",
   "id": "f875cfc5-0af8-4897-b9fe-f5872ce68ad7",
   "metadata": {},
   "source": [
    "# Level 8 - [Holiday VIII - Duty Free](https://www.codewars.com/kata/57e92e91b63b6cbac20001e5)\n"
   ]
  },
  {
   "cell_type": "code",
   "execution_count": 55,
   "id": "cf6d14a9-9261-4933-9d89-d2d2affef64f",
   "metadata": {},
   "outputs": [],
   "source": [
    "def duty_free(price, discount, holiday_cost):\n",
    "\tbot_num = holiday_cost/(price*(discount/100))\n",
    "\t\n",
    "\treturn int(bot_num)\n"
   ]
  },
  {
   "cell_type": "markdown",
   "id": "d14f4ae7-0400-42d8-9d1b-308b67c99079",
   "metadata": {},
   "source": [
    "# Level 8 - [Even or Odd](https://www.codewars.com/kata/53da3dbb4a5168369a0000fe)\n"
   ]
  },
  {
   "cell_type": "code",
   "execution_count": 56,
   "id": "11ab912f-802e-4857-a051-88717e7cff2c",
   "metadata": {},
   "outputs": [],
   "source": [
    "def even_or_odd(number):\n",
    "\tif (number%2)==0:\n",
    "\t\treturn \"Even\"\n",
    "\telse:\n",
    "\t\treturn \"Odd\"\n"
   ]
  },
  {
   "cell_type": "markdown",
   "id": "92926f50-e5d8-479c-9a20-c56f8a0b3458",
   "metadata": {},
   "source": [
    "# Level 8 - [Multiply](https://www.codewars.com/kata/50654ddff44f800200000004)\n"
   ]
  },
  {
   "cell_type": "code",
   "execution_count": 57,
   "id": "cde33289-0188-4e60-af7e-2d02b6598580",
   "metadata": {},
   "outputs": [],
   "source": [
    "def multiply(a, b):\n",
    "  return a * b\n"
   ]
  },
  {
   "cell_type": "markdown",
   "id": "c9a284e8-82be-483a-af90-9718d13dbf12",
   "metadata": {},
   "source": [
    "# Level 7 - [IQ Test](https://www.codewars.com/kata/552c028c030765286c00007d)\n"
   ]
  },
  {
   "cell_type": "code",
   "execution_count": 58,
   "id": "28240589-4bb7-435e-91ed-ba85ee8cbc08",
   "metadata": {},
   "outputs": [],
   "source": [
    "def iq_test(numbers):\n",
    "\tnums = list(numbers.split(\" \"))\n",
    "\tfor i in range(0, len(nums)):\n",
    "\t\tnums[i] = int(nums[i])\n",
    "\n",
    "\tevens = []\n",
    "\tfor num in nums:\n",
    "\t\tif (num % 2) == 0:\n",
    "\t\t\tevens.append(1)\n",
    "\t\telse:\n",
    "\t\t\tevens.append(0)\n",
    "\tif evens.count(1) > evens.count(0):\n",
    "\t\ta=0\n",
    "\telse:\n",
    "\t\ta=1\t\n",
    "\treturn(evens.index(a)+1)\n"
   ]
  },
  {
   "cell_type": "markdown",
   "id": "6cb336c1-4c81-4f6a-8111-30ea3b1f0bed",
   "metadata": {},
   "source": [
    "# Level 7 - [Friend or Foe?](https://www.codewars.com/kata/55b42574ff091733d900002f)\n"
   ]
  },
  {
   "cell_type": "code",
   "execution_count": 59,
   "id": "a6bb68a2-4a6b-4cc1-9776-d9575d6bea4b",
   "metadata": {},
   "outputs": [],
   "source": [
    "def friend(x):\n",
    "\tx = ([i for i in x if len(i) == 4])\n",
    "\treturn x\n"
   ]
  },
  {
   "cell_type": "markdown",
   "id": "eb215893-b6ab-4438-841e-ad38a97f1f48",
   "metadata": {},
   "source": [
    "# Level 7 - [Digit*Digit](https://www.codewars.com/kata/546e2562b03326a88e000020)\n"
   ]
  },
  {
   "cell_type": "code",
   "execution_count": 60,
   "id": "7e53dba1-cf25-4d92-91cd-64fcc3c36492",
   "metadata": {},
   "outputs": [],
   "source": [
    "def square_digits(num):\n",
    "\tcon = 0\n",
    "\tfor i in str(num):\n",
    "\t\tsq=i\n",
    "\t\tsq=int(sq)**2\n",
    "\t\tcon=int(str(con) + str(sq))\n",
    "\treturn(con)\n"
   ]
  }
 ],
 "metadata": {
  "kernelspec": {
   "display_name": "Python 3 (ipykernel)",
   "language": "python",
   "name": "python3"
  },
  "language_info": {
   "codemirror_mode": {
    "name": "ipython",
    "version": 3
   },
   "file_extension": ".py",
   "mimetype": "text/x-python",
   "name": "python",
   "nbconvert_exporter": "python",
   "pygments_lexer": "ipython3",
   "version": "3.9.13"
  }
 },
 "nbformat": 4,
 "nbformat_minor": 5
}
